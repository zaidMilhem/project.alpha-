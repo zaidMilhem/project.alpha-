{
 "cells": [
  {
   "cell_type": "code",
   "execution_count": null,
   "id": "9159e572-be73-416f-b148-16a11201a506",
   "metadata": {},
   "outputs": [],
   "source": []
  },
  {
   "cell_type": "markdown",
   "id": "4962d900-4797-456e-934e-487b27691e9f",
   "metadata": {},
   "source": [
    "#project.alpha"
   ]
  },
  {
   "cell_type": "markdown",
   "id": "13975db5-8654-4dab-9515-10b7e7a14c4b",
   "metadata": {},
   "source": [
    "## introduction"
   ]
  },
  {
   "cell_type": "markdown",
   "id": "4901a03d-39ab-4fa0-8cd9-1deafbf8654c",
   "metadata": {},
   "source": [
    "Python\r\n",
    "R\r\n",
    "SQL\r\n",
    "Julia\r\n",
    "SAS\r\n",
    "MATLAB\r\n",
    "Scala"
   ]
  },
  {
   "cell_type": "markdown",
   "id": "291600e9-4f19-4d06-a29e-ec14de98adad",
   "metadata": {},
   "source": [
    "NumPy\r\n",
    "pandas\r\n",
    "SciPy\r\n",
    "scikit-learn\r\n",
    "TensorFlow\r\n",
    "Keras\r\n",
    "PyTorch\r\n",
    "matplotlib\r\n",
    "seaborn\r\n",
    "NLTK (Natural Language Toolkit)"
   ]
  },
  {
   "cell_type": "markdown",
   "id": "2eac5aa1-ae2c-457e-ba6b-0ca5d215bd20",
   "metadata": {},
   "source": [
    "| Category           | Tools                              |\r\n",
    "|--------------------|------------------------------------|\r\n",
    "| Programming        | Python, R, Julia, Scala            |\r\n",
    "| Data Manipulation  | pandas, dplyr, DataFrames.jl       |\r\n",
    "| Numerical Computing| NumPy, SciPy, Breeze               |\r\n",
    "| Machine Learning   | scikit-learn, MLJ.jl, TensorFlow, PyTorch |\r\n",
    "| Data Visualization | matplotlib, seaborn, ggplot2, Plots.jl |\r\n",
    "| Natural Language Processing | NLTK, spaCy, TextBlob        |\r\n",
    "| Big Data Processing| Apache Spark, Hadoop, Flink        |\r\n",
    "| Deep Learning      | Keras, TensorFlow, PyTorch, Flux.jl|\r\n",
    "| Statistical Analysis| statsmodels, caret, scipy.stats   |\r\n",
    "| Database Management| SQL, MongoDB, PostgreSQL          |\r\n"
   ]
  },
  {
   "cell_type": "markdown",
   "id": "06b5bcb4-3ded-40ea-ada5-db82d965ecde",
   "metadata": {},
   "source": [
    "# Arithmetic Expression Examples\r\n",
    "\r\n",
    "Arithmetic expressions are fundamental in programming and mathematics. They involve mathematical operations such as addition, subtraction, multiplication, and division. Below are some examples of arithmetic expressions:\r\n",
    "\r\n",
    "1. **Addition (+)**: Adds two or more numbers together.\r\n",
    "   - Example: `2 + 3 = 5`\r\n",
    "\r\n",
    "2. **Subtraction (-)**: Subtracts one number from another.\r\n",
    "   - Example: `5 - 3 = 2`\r\n",
    "\r\n",
    "3. **Multiplication (*)**: Multiplies two or more numbers.\r\n",
    "   - Example: `2 * 3 = 6`\r\n",
    "\r\n",
    "4. **Division (/)**: Divides one number by another.\r\n",
    "   - Example: `6 / 2 = 3`\r\n",
    "\r\n",
    "5. **Exponentiation (**) or (pow)**: Raises a number to the power of another.\r\n",
    "   - Example: `2 ** 3 = 8` or `pow(2, 3) = 8`\r\n",
    "\r\n",
    "6. **Modulus (%)**: Returns the remainder of a division.\r\n",
    "   - Example: `5 % 2 = 1` (remainder when 5 is divided by 2)\r\n",
    "\r\n",
    "These basic arithmetic operations form the building blocks for more complex mathematical computations in programming languages.\r\n"
   ]
  },
  {
   "cell_type": "code",
   "execution_count": 1,
   "id": "e556bb58-e2fe-47e3-88e2-40570444409a",
   "metadata": {},
   "outputs": [
    {
     "name": "stdout",
     "output_type": "stream",
     "text": [
      "Multiplication Result: 15\n",
      "Addition Result: 8\n"
     ]
    }
   ],
   "source": [
    "# Multiply and Add Numbers\n",
    "a = 5\n",
    "b = 3\n",
    "\n",
    "# Multiplication\n",
    "result_multiply = a * b\n",
    "print(f\"Multiplication Result: {result_multiply}\")\n",
    "\n",
    "# Addition\n",
    "result_add = a + b\n",
    "print(f\"Addition Result: {result_add}\")\n"
   ]
  },
  {
   "cell_type": "code",
   "execution_count": null,
   "id": "3c0cb613-80db-4ff4-a29b-e0d1051d8498",
   "metadata": {},
   "outputs": [],
   "source": [
    "# Convert Minutes to Hours\n",
    "minutes = 120  # Example: 120 minutes\n",
    "\n",
    "# Conversion\n",
    "hours = minutes / 60\n",
    "\n",
    "print(f\"{minutes} minutes is equal to {hours} hours\")\n"
   ]
  },
  {
   "cell_type": "markdown",
   "id": "a1e23b11-ce5a-4e16-89c6-d6df01a4d270",
   "metadata": {},
   "source": [
    "#objectives "
   ]
  },
  {
   "cell_type": "markdown",
   "id": "72faf6b0-d485-49d3-9dfa-f1f9136ad175",
   "metadata": {},
   "source": [
    "#authers_name"
   ]
  },
  {
   "cell_type": "code",
   "execution_count": null,
   "id": "d3380d6e-1d90-4398-afe1-504c0cafdad1",
   "metadata": {},
   "outputs": [],
   "source": []
  }
 ],
 "metadata": {
  "kernelspec": {
   "display_name": "Python 3 (ipykernel)",
   "language": "python",
   "name": "python3"
  },
  "language_info": {
   "codemirror_mode": {
    "name": "ipython",
    "version": 3
   },
   "file_extension": ".py",
   "mimetype": "text/x-python",
   "name": "python",
   "nbconvert_exporter": "python",
   "pygments_lexer": "ipython3",
   "version": "3.11.7"
  }
 },
 "nbformat": 4,
 "nbformat_minor": 5
}
